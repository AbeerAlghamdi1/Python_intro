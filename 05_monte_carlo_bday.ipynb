{
  "nbformat": 4,
  "nbformat_minor": 0,
  "metadata": {
    "colab": {
      "name": "05_monte_carlo_bday.ipynb",
      "provenance": [],
      "include_colab_link": true
    },
    "kernelspec": {
      "name": "python3",
      "display_name": "Python 3"
    }
  },
  "cells": [
    {
      "cell_type": "markdown",
      "metadata": {
        "id": "view-in-github",
        "colab_type": "text"
      },
      "source": [
        "<a href=\"https://colab.research.google.com/github/AbeerAlghamdi1/Python_intro/blob/main/05_monte_carlo_bday.ipynb\" target=\"_parent\"><img src=\"https://colab.research.google.com/assets/colab-badge.svg\" alt=\"Open In Colab\"/></a>"
      ]
    },
    {
      "cell_type": "markdown",
      "metadata": {
        "id": "rnj0wuNtHt8E"
      },
      "source": [
        "##Weekend Project P5\n",
        "\n",
        "**There is a famous problem in statistics that concerns a room full of people: Same Birthday!**\n",
        "\n",
        "An instructor offers a prize of $20.00 to anyone who thinks that two people in the room have the same birthday.\n",
        "\n",
        "Your assignment is to build a Monte Carlo simulation to tell the instructor how many people need to be in the room to give him/her a better than 50% chance of winning the $20.\n",
        "\n",
        "That is to say how many people need to be in a room in order for the probability of two of them having the same birthday is greater than 50%. Do the same for 95% and 99%."
      ]
    },
    {
      "cell_type": "code",
      "metadata": {
        "id": "yrzJvKsEHhda"
      },
      "source": [
        "import numpy as np\r\n",
        "import math, random, sys\r\n",
        "from scipy import stats\r\n",
        "from decimal import Decimal as dml"
      ],
      "execution_count": 9,
      "outputs": []
    },
    {
      "cell_type": "code",
      "metadata": {
        "colab": {
          "base_uri": "https://localhost:8080/"
        },
        "id": "Og5IlcBIH-J0",
        "outputId": "cb60a00e-83ec-4d36-d389-2e07a2feb379"
      },
      "source": [
        "# Create funtion to run simulations\n",
        "\n",
        "def birthday_p(people):\n",
        "  year = np.zeros(366, dtype=int) \n",
        "  results = np.array([])\n",
        "  for i in range(people):\n",
        "    birthday = np.random.randint(0, 366, 1) \n",
        "    year[birthday] = year[birthday] + 1\n",
        "  print(year)\n",
        "  matches = 0\n",
        "  for i in range(366):\n",
        "    if(year[i]>1):\n",
        "      matches = matches + year[i]\n",
        "  print('people: {}'.format(people))\n",
        "  print('matches: {}'.format(matches))\n",
        "  expected =  (1 - dml(math.factorial(365)) / ( 365**people * math.factorial(365-people)))*100\n",
        "  expected = np.floor(expected)\n",
        "  expected = int(expected)\n",
        "  print('expected: {} %'.format(expected))\n",
        "\n",
        "  \n",
        "\n",
        "\n",
        "birthday_p(23)\n",
        "birthday_p(47)\n",
        "birthday_p(77)"
      ],
      "execution_count": 18,
      "outputs": [
        {
          "output_type": "stream",
          "text": [
            "[0 0 0 0 0 0 0 0 0 0 0 0 0 0 0 0 0 0 0 0 0 0 0 0 0 0 0 0 0 0 0 0 0 0 0 0 0\n",
            " 0 0 0 0 0 0 0 0 0 0 0 0 0 1 0 0 0 0 0 0 0 0 0 0 0 0 0 0 0 1 0 0 0 0 0 1 0\n",
            " 0 0 0 0 0 1 1 0 0 0 1 0 0 1 0 0 0 0 0 0 0 0 0 0 0 0 0 0 0 0 0 0 0 0 0 0 0\n",
            " 0 0 0 0 0 0 0 0 0 0 0 0 0 0 0 0 0 0 0 0 0 1 0 0 0 0 0 1 0 0 0 0 0 0 0 0 0\n",
            " 0 0 0 0 0 0 0 0 0 0 0 0 0 0 0 0 0 0 0 0 0 0 0 0 0 0 0 0 0 0 0 0 0 0 0 0 0\n",
            " 0 0 0 0 0 0 0 0 0 0 0 0 0 0 0 0 0 0 0 0 0 0 1 0 0 0 0 0 0 0 0 0 0 0 0 0 0\n",
            " 0 0 0 0 0 0 0 0 0 0 0 0 0 0 0 0 0 0 0 0 0 0 0 0 0 1 0 0 0 1 0 0 0 0 0 1 0\n",
            " 1 0 0 0 0 0 0 0 1 0 0 0 0 0 0 0 0 0 0 0 0 0 0 0 0 0 0 0 0 0 0 0 0 0 0 0 0\n",
            " 0 0 0 0 0 1 0 0 0 0 0 0 0 0 0 0 0 0 0 0 0 0 0 0 1 0 0 0 0 0 0 0 0 0 0 0 2\n",
            " 0 0 0 1 0 0 0 0 0 0 0 1 0 0 0 1 0 0 0 0 0 0 0 0 0 0 0 0 0 0 1 0 0]\n",
            "people: 23\n",
            "matches: 2\n",
            "expected: 50 %\n",
            "[0 0 0 0 0 0 0 0 0 0 0 0 0 0 0 0 0 0 1 1 0 0 0 0 0 0 0 0 0 0 0 0 0 2 0 0 0\n",
            " 0 0 0 0 1 0 0 0 0 0 0 0 0 0 0 0 0 0 1 3 0 1 0 0 0 0 0 0 0 0 0 0 0 0 1 0 0\n",
            " 1 0 0 0 1 0 1 0 0 0 0 1 0 1 0 0 1 0 1 0 0 0 1 0 0 0 0 0 0 0 0 0 0 0 0 0 0\n",
            " 0 0 1 0 1 1 0 0 1 0 0 0 0 0 1 0 0 0 0 0 0 0 0 0 0 0 0 0 0 0 0 0 0 0 0 0 0\n",
            " 0 0 0 0 0 0 0 0 0 1 0 0 0 0 0 1 0 0 0 0 1 0 0 0 0 0 0 1 0 1 0 0 0 0 0 0 0\n",
            " 0 1 0 0 0 0 1 0 0 0 0 0 0 0 1 0 0 0 0 0 0 0 0 0 0 0 0 0 0 0 0 0 0 0 0 0 0\n",
            " 0 0 0 0 0 0 0 0 0 0 0 0 0 0 0 0 0 0 0 0 0 0 0 0 0 0 0 0 0 0 0 0 0 1 0 0 0\n",
            " 0 1 1 0 0 0 0 0 0 0 0 0 0 1 0 0 0 0 0 1 0 0 0 0 0 0 0 0 1 0 0 1 0 0 0 0 0\n",
            " 0 0 0 0 0 0 0 0 0 0 0 0 0 0 0 0 1 0 0 0 0 0 0 0 0 0 1 0 0 0 0 0 1 0 0 1 0\n",
            " 0 1 0 0 0 0 0 0 0 0 1 0 0 0 0 0 0 0 0 0 0 0 0 0 0 1 0 1 0 0 0 0 0]\n",
            "people: 47\n",
            "matches: 5\n",
            "expected: 95 %\n",
            "[1 0 0 0 0 0 0 0 0 0 0 0 0 0 0 1 0 0 0 0 0 0 0 0 1 1 1 0 0 0 0 0 0 0 0 0 0\n",
            " 0 0 1 1 1 0 0 0 0 0 2 0 0 1 0 1 0 0 0 0 0 0 0 0 1 1 0 0 0 0 0 0 0 0 1 0 0\n",
            " 1 0 0 0 0 0 0 0 0 0 0 0 0 0 0 0 0 0 0 0 0 0 1 0 0 0 1 0 0 0 0 0 1 1 0 0 0\n",
            " 0 0 0 0 2 0 0 0 0 0 1 0 0 0 0 0 0 0 0 0 2 0 0 0 0 0 0 1 2 0 1 0 2 1 0 0 1\n",
            " 0 1 0 0 0 0 0 0 1 0 0 0 0 0 0 0 0 0 0 0 0 0 0 0 0 0 0 0 0 2 0 0 0 0 0 1 1\n",
            " 0 0 0 1 0 0 0 0 0 0 0 0 0 0 0 0 1 0 0 0 0 0 0 0 0 0 0 0 0 1 0 0 0 0 0 0 0\n",
            " 1 0 0 1 1 0 0 0 0 0 0 1 0 0 1 1 2 0 0 1 0 0 0 0 0 0 0 0 0 0 0 1 1 1 0 0 1\n",
            " 0 0 0 0 1 1 0 0 0 0 0 0 0 0 0 0 0 1 0 0 0 1 0 0 0 1 0 0 0 0 0 0 0 0 0 0 0\n",
            " 0 0 0 1 0 0 0 0 0 0 0 1 0 0 0 1 0 0 0 0 0 0 2 0 1 0 0 1 0 0 2 0 3 1 0 0 0\n",
            " 0 0 0 1 0 0 0 0 0 0 0 0 0 0 1 0 0 0 0 0 0 0 0 0 0 0 0 0 0 1 0 1 0]\n",
            "people: 77\n",
            "matches: 21\n",
            "expected: 99 %\n"
          ],
          "name": "stdout"
        }
      ]
    }
  ]
}